{
 "cells": [
  {
   "cell_type": "markdown",
   "id": "be29ce19",
   "metadata": {},
   "source": [
    "# Generate Orders from Positions"
   ]
  },
  {
   "cell_type": "code",
   "execution_count": 1,
   "id": "17a7d827",
   "metadata": {
    "ExecuteTime": {
     "end_time": "2024-10-12T12:12:54.188526Z",
     "start_time": "2024-10-12T12:12:51.927861Z"
    }
   },
   "outputs": [],
   "source": [
    "import io\n",
    "import datetime\n",
    "import pytz\n",
    "\n",
    "import pandas as pd\n",
    "import numpy as np"
   ]
  },
  {
   "cell_type": "markdown",
   "id": "489cc0b5",
   "metadata": {},
   "source": [
    "## Data"
   ]
  },
  {
   "cell_type": "code",
   "execution_count": 2,
   "id": "d8297a2d",
   "metadata": {
    "ExecuteTime": {
     "end_time": "2024-10-12T12:43:22.016564Z",
     "start_time": "2024-10-12T12:43:22.007003Z"
    }
   },
   "outputs": [],
   "source": [
    "UTC_TZ = pytz.timezone(\"UTC\")\n",
    "\n",
    "def read(s):\n",
    "    df = pd.read_csv(io.StringIO(s), sep=\"|\")\n",
    "    df.rename(columns=lambda s: s.strip(), inplace=True)\n",
    "    for col in df.columns:\n",
    "        if col in [\"dt\", \"rt\"]:\n",
    "            df[col] = pd.to_datetime(df[col])\n",
    "        elif df.dtypes[col] == np.dtype(\"O\"):\n",
    "            df[col] = df[col].apply(lambda s: s.strip())\n",
    "        else:\n",
    "            pass\n",
    "    return df.set_index([c for c in df.columns if c != \"value\"])['value']"
   ]
  },
  {
   "cell_type": "markdown",
   "id": "b972b2cb",
   "metadata": {},
   "source": [
    "1. rt - reference time: when the strategy wants to achieve given target position\n",
    "2. dt - decision time: when the strategy decided to achieve that position\n",
    "\n",
    "4ex: Strategy S1 runs at 9am and generates a target position of 10e6 EUR at 9:30am, `dt` will be 9am and `rt` will be 9:30."
   ]
  },
  {
   "cell_type": "code",
   "execution_count": 3,
   "id": "20b01844-a6e5-4101-80e2-2171563ce52d",
   "metadata": {},
   "outputs": [],
   "source": [
    "# OG Target Positions\n",
    "\n",
    "# tpos = read(\"\"\"\n",
    "#     rt                   | strategy | asset | dt                   | value\n",
    "#     2023-08-29 07:00:00z | s1       | PLN   | 2023-08-29 07:00:00z | 4e6\n",
    "#     2023-08-29 16:00:00z | s1       | CZK   | 2023-08-29 07:00:00z | -24e6\n",
    "#     2023-08-30 07:00:00z | s1       | PLN   | 2023-08-30 07:00:00z | 8e6\n",
    "#     2023-08-30 16:00:00z | s1       | CZK   | 2023-08-30 07:00:00z | -48e6\n",
    "#     2023-08-29 07:00:00z | s2       | EUR   | 2023-08-29 07:00:00z | 1.8e6\n",
    "#     2023-08-29 16:00:00z | s2       | AUD   | 2023-08-29 07:00:00z | -1.5e6\n",
    "#     2023-08-30 07:00:00z | s2       | EUR   | 2023-08-30 07:00:00z | 3.6e6\n",
    "#     2023-08-30 16:00:00z | s2       | AUD   | 2023-08-30 07:00:00z | -1e6\n",
    "#     2023-08-29 07:00:00z | s3       | CZK   | 2023-08-29 07:00:00z | 12e6\n",
    "#     2023-08-29 16:00:00z | s3       | CZK   | 2023-08-29 07:00:00z | 18e6\n",
    "#     2023-08-30 07:00:00z | s3       | CZK   | 2023-08-30 07:00:00z | 18e6\n",
    "#     2023-08-30 16:00:00z | s3       | CZK   | 2023-08-30 07:00:00z | 24e6\n",
    "#     \"\"\")"
   ]
  },
  {
   "cell_type": "code",
   "execution_count": 4,
   "id": "2d9b56c4",
   "metadata": {
    "ExecuteTime": {
     "end_time": "2024-10-12T12:43:22.411244Z",
     "start_time": "2024-10-12T12:43:22.390604Z"
    }
   },
   "outputs": [],
   "source": [
    "# Tested Target Positions\n",
    "\n",
    "tpos = read(\"\"\"\n",
    "    rt                   | strategy | asset | dt                   | value\n",
    "    2023-08-29 07:00:00z | s1       | PLN   | 2023-08-29 07:00:00z | 4e6\n",
    "    2023-08-29 16:00:00z | s1       | CZK   | 2023-08-29 07:00:00z | -24e6\n",
    "    2023-08-30 07:00:00z | s1       | PLN   | 2023-08-30 07:00:00z | 8e6\n",
    "    2023-08-30 16:00:00z | s1       | CZK   | 2023-08-30 07:00:00z | -48e6\n",
    "    2023-08-29 07:00:00z | s2       | EUR   | 2023-08-29 07:00:00z | 1.8e6\n",
    "    2023-08-29 16:00:00z | s2       | AUD   | 2023-08-29 07:00:00z | -1.5e6\n",
    "    2023-08-30 07:00:00z | s2       | EUR   | 2023-08-30 07:00:00z | 3.6e6\n",
    "    2023-08-30 16:00:00z | s2       | AUD   | 2023-08-30 07:00:00z | -1e6\n",
    "    2023-08-29 07:00:00z | s3       | CZK   | 2023-08-29 07:00:00z | 12e6\n",
    "    2023-08-29 16:00:00z | s3       | CZK   | 2023-08-29 07:00:00z | 18e6\n",
    "    2023-08-29 16:00:00z | s3       | PLN   | 2023-08-29 07:00:00z | 10e6\n",
    "    2023-08-30 07:00:00z | s3       | CZK   | 2023-08-30 07:00:00z | 18e6\n",
    "    2023-08-30 16:00:00z | s1       | PLN   | 2023-08-30 07:00:00z | 9.2e6\n",
    "    2023-08-30 16:00:00z | s3       | PLN   | 2023-08-30 07:00:00z | 10.2e6\n",
    "    2023-08-30 16:00:00z | s3       | CZK   | 2023-08-30 07:00:00z | 24e6\n",
    "    \"\"\")"
   ]
  },
  {
   "cell_type": "code",
   "execution_count": 5,
   "id": "f09beb7c",
   "metadata": {
    "ExecuteTime": {
     "end_time": "2024-10-12T12:43:22.750145Z",
     "start_time": "2024-10-12T12:43:22.730243Z"
    }
   },
   "outputs": [],
   "source": [
    "#Expected fx rates at different times?\n",
    "fx_rates = read(\"\"\"\n",
    "    rt                   | asset | value\n",
    "    2023-08-29 07:00:00z | PLN   | 3.934\n",
    "    2023-08-29 16:00:00z | PLN   | 3.924\n",
    "    2023-08-30 07:00:00z | PLN   | 3.914\n",
    "    2023-08-30 16:00:00z | PLN   | 3.904\n",
    "    \n",
    "    2023-08-29 07:00:00z | CZK   | 23.12\n",
    "    2023-08-29 16:00:00z | CZK   | 23.08\n",
    "    2023-08-30 07:00:00z | CZK   | 23.02\n",
    "    2023-08-30 16:00:00z | CZK   | 23.01\n",
    "    \n",
    "    2023-08-29 07:00:00z | EUR   | 1.116\n",
    "    2023-08-29 16:00:00z | EUR   | 1.119\n",
    "    2023-08-30 07:00:00z | EUR   | 1.121\n",
    "    2023-08-30 16:00:00z | EUR   | 1.122\n",
    "    \n",
    "    2023-08-29 07:00:00z | AUD   | 0.672\n",
    "    2023-08-29 16:00:00z | AUD   | 0.682\n",
    "    2023-08-30 07:00:00z | AUD   | 0.689\n",
    "    2023-08-30 16:00:00z | AUD   | 0.690\n",
    "    \"\"\")"
   ]
  },
  {
   "cell_type": "code",
   "execution_count": 6,
   "id": "b2dcbda1",
   "metadata": {
    "ExecuteTime": {
     "end_time": "2024-10-12T12:43:23.083573Z",
     "start_time": "2024-10-12T12:43:23.072876Z"
    }
   },
   "outputs": [],
   "source": [
    "#For exercise 3, minimum order size\n",
    "min_order_size_usd = read(\"\"\"\n",
    "    asset | value\n",
    "    PLN   | 5e5\n",
    "    CZK   | 5e5\n",
    "    EUR   | 1e6\n",
    "    AUD   | 1e6\n",
    "\"\"\")"
   ]
  },
  {
   "cell_type": "code",
   "execution_count": 7,
   "id": "40bea2cd",
   "metadata": {
    "ExecuteTime": {
     "end_time": "2024-10-12T12:43:23.536424Z",
     "start_time": "2024-10-12T12:43:23.526747Z"
    }
   },
   "outputs": [],
   "source": [
    "#Date at which the \n",
    "trading_session = pd.Timestamp(\"2023-08-30 16:00:00\")"
   ]
  },
  {
   "cell_type": "markdown",
   "id": "37aa00ad",
   "metadata": {},
   "source": [
    "# Easy Task: Generate Orders (total and by strategy) as of 2023-08-30 16:00 (Local Ccy)"
   ]
  },
  {
   "cell_type": "code",
   "execution_count": 8,
   "id": "88b4538e-cf4b-4d5d-b555-77950a94ebe4",
   "metadata": {},
   "outputs": [],
   "source": [
    "df_order_local_currency = tpos.unstack(['strategy','asset']).ffill().diff().xs(trading_session,level='rt').iloc[0].rename('order_local_ccy').reset_index()"
   ]
  },
  {
   "cell_type": "code",
   "execution_count": 9,
   "id": "cd2469d5-f732-4f61-b7b4-972c8ce7e1ff",
   "metadata": {},
   "outputs": [
    {
     "data": {
      "text/html": [
       "<div>\n",
       "<style scoped>\n",
       "    .dataframe tbody tr th:only-of-type {\n",
       "        vertical-align: middle;\n",
       "    }\n",
       "\n",
       "    .dataframe tbody tr th {\n",
       "        vertical-align: top;\n",
       "    }\n",
       "\n",
       "    .dataframe thead th {\n",
       "        text-align: right;\n",
       "    }\n",
       "</style>\n",
       "<table border=\"1\" class=\"dataframe\">\n",
       "  <thead>\n",
       "    <tr style=\"text-align: right;\">\n",
       "      <th></th>\n",
       "      <th>strategy</th>\n",
       "      <th>asset</th>\n",
       "      <th>order_local_ccy</th>\n",
       "    </tr>\n",
       "  </thead>\n",
       "  <tbody>\n",
       "    <tr>\n",
       "      <th>0</th>\n",
       "      <td>s1</td>\n",
       "      <td>PLN</td>\n",
       "      <td>1200000.0</td>\n",
       "    </tr>\n",
       "    <tr>\n",
       "      <th>1</th>\n",
       "      <td>s1</td>\n",
       "      <td>CZK</td>\n",
       "      <td>-24000000.0</td>\n",
       "    </tr>\n",
       "    <tr>\n",
       "      <th>2</th>\n",
       "      <td>s2</td>\n",
       "      <td>EUR</td>\n",
       "      <td>0.0</td>\n",
       "    </tr>\n",
       "    <tr>\n",
       "      <th>3</th>\n",
       "      <td>s2</td>\n",
       "      <td>AUD</td>\n",
       "      <td>500000.0</td>\n",
       "    </tr>\n",
       "    <tr>\n",
       "      <th>4</th>\n",
       "      <td>s3</td>\n",
       "      <td>CZK</td>\n",
       "      <td>6000000.0</td>\n",
       "    </tr>\n",
       "    <tr>\n",
       "      <th>5</th>\n",
       "      <td>s3</td>\n",
       "      <td>PLN</td>\n",
       "      <td>200000.0</td>\n",
       "    </tr>\n",
       "  </tbody>\n",
       "</table>\n",
       "</div>"
      ],
      "text/plain": [
       "  strategy asset  order_local_ccy\n",
       "0       s1   PLN        1200000.0\n",
       "1       s1   CZK      -24000000.0\n",
       "2       s2   EUR              0.0\n",
       "3       s2   AUD         500000.0\n",
       "4       s3   CZK        6000000.0\n",
       "5       s3   PLN         200000.0"
      ]
     },
     "execution_count": 9,
     "metadata": {},
     "output_type": "execute_result"
    }
   ],
   "source": [
    "df_order_local_currency"
   ]
  },
  {
   "cell_type": "code",
   "execution_count": 10,
   "id": "325c6001-181f-4679-b3f8-41bf26d3474f",
   "metadata": {},
   "outputs": [
    {
     "data": {
      "text/html": [
       "<div>\n",
       "<style scoped>\n",
       "    .dataframe tbody tr th:only-of-type {\n",
       "        vertical-align: middle;\n",
       "    }\n",
       "\n",
       "    .dataframe tbody tr th {\n",
       "        vertical-align: top;\n",
       "    }\n",
       "\n",
       "    .dataframe thead th {\n",
       "        text-align: right;\n",
       "    }\n",
       "</style>\n",
       "<table border=\"1\" class=\"dataframe\">\n",
       "  <thead>\n",
       "    <tr style=\"text-align: right;\">\n",
       "      <th></th>\n",
       "      <th>asset</th>\n",
       "      <th>order_local_ccy</th>\n",
       "    </tr>\n",
       "  </thead>\n",
       "  <tbody>\n",
       "    <tr>\n",
       "      <th>0</th>\n",
       "      <td>AUD</td>\n",
       "      <td>500000.0</td>\n",
       "    </tr>\n",
       "    <tr>\n",
       "      <th>1</th>\n",
       "      <td>CZK</td>\n",
       "      <td>-18000000.0</td>\n",
       "    </tr>\n",
       "    <tr>\n",
       "      <th>2</th>\n",
       "      <td>EUR</td>\n",
       "      <td>0.0</td>\n",
       "    </tr>\n",
       "    <tr>\n",
       "      <th>3</th>\n",
       "      <td>PLN</td>\n",
       "      <td>1400000.0</td>\n",
       "    </tr>\n",
       "  </tbody>\n",
       "</table>\n",
       "</div>"
      ],
      "text/plain": [
       "  asset  order_local_ccy\n",
       "0   AUD         500000.0\n",
       "1   CZK      -18000000.0\n",
       "2   EUR              0.0\n",
       "3   PLN        1400000.0"
      ]
     },
     "execution_count": 10,
     "metadata": {},
     "output_type": "execute_result"
    }
   ],
   "source": [
    "df_order_local_currency.groupby('asset')['order_local_ccy'].sum().reset_index()"
   ]
  },
  {
   "cell_type": "code",
   "execution_count": 11,
   "id": "98016a5b",
   "metadata": {
    "ExecuteTime": {
     "end_time": "2024-10-12T14:01:26.409608Z",
     "start_time": "2024-10-12T14:01:26.389634Z"
    }
   },
   "outputs": [
    {
     "data": {
      "text/html": [
       "<div>\n",
       "<style scoped>\n",
       "    .dataframe tbody tr th:only-of-type {\n",
       "        vertical-align: middle;\n",
       "    }\n",
       "\n",
       "    .dataframe tbody tr th {\n",
       "        vertical-align: top;\n",
       "    }\n",
       "\n",
       "    .dataframe thead th {\n",
       "        text-align: right;\n",
       "    }\n",
       "</style>\n",
       "<table border=\"1\" class=\"dataframe\">\n",
       "  <thead>\n",
       "    <tr style=\"text-align: right;\">\n",
       "      <th></th>\n",
       "      <th>strategy</th>\n",
       "      <th>asset</th>\n",
       "      <th>order_local_ccy</th>\n",
       "    </tr>\n",
       "  </thead>\n",
       "  <tbody>\n",
       "    <tr>\n",
       "      <th>0</th>\n",
       "      <td>s1</td>\n",
       "      <td>PLN</td>\n",
       "      <td>0.0</td>\n",
       "    </tr>\n",
       "    <tr>\n",
       "      <th>1</th>\n",
       "      <td>s1</td>\n",
       "      <td>CZK</td>\n",
       "      <td>-24000000.0</td>\n",
       "    </tr>\n",
       "    <tr>\n",
       "      <th>2</th>\n",
       "      <td>s2</td>\n",
       "      <td>EUR</td>\n",
       "      <td>0.0</td>\n",
       "    </tr>\n",
       "    <tr>\n",
       "      <th>3</th>\n",
       "      <td>s2</td>\n",
       "      <td>AUD</td>\n",
       "      <td>500000.0</td>\n",
       "    </tr>\n",
       "    <tr>\n",
       "      <th>4</th>\n",
       "      <td>s3</td>\n",
       "      <td>CZK</td>\n",
       "      <td>6000000.0</td>\n",
       "    </tr>\n",
       "  </tbody>\n",
       "</table>\n",
       "</div>"
      ],
      "text/plain": [
       "  strategy asset  order_local_ccy\n",
       "0       s1   PLN              0.0\n",
       "1       s1   CZK      -24000000.0\n",
       "2       s2   EUR              0.0\n",
       "3       s2   AUD         500000.0\n",
       "4       s3   CZK        6000000.0"
      ]
     },
     "execution_count": 11,
     "metadata": {},
     "output_type": "execute_result"
    }
   ],
   "source": [
    "order_by_strategy_and_asset_local_ccy = pd.DataFrame([\n",
    "    {'strategy': 's1', 'asset': 'PLN', 'order_local_ccy': 0.0},\n",
    "    {'strategy': 's1', 'asset': 'CZK', 'order_local_ccy': -24000000.0},\n",
    "    {'strategy': 's2', 'asset': 'EUR', 'order_local_ccy': 0.0},\n",
    "    {'strategy': 's2', 'asset': 'AUD', 'order_local_ccy': 500000.0},\n",
    "    {'strategy': 's3', 'asset': 'CZK', 'order_local_ccy': 6000000.0}\n",
    "])\n",
    "order_by_strategy_and_asset_local_ccy"
   ]
  },
  {
   "cell_type": "code",
   "execution_count": 12,
   "id": "98b26b4a",
   "metadata": {
    "ExecuteTime": {
     "end_time": "2024-10-12T14:01:23.094376Z",
     "start_time": "2024-10-12T14:01:23.079685Z"
    }
   },
   "outputs": [
    {
     "data": {
      "text/html": [
       "<div>\n",
       "<style scoped>\n",
       "    .dataframe tbody tr th:only-of-type {\n",
       "        vertical-align: middle;\n",
       "    }\n",
       "\n",
       "    .dataframe tbody tr th {\n",
       "        vertical-align: top;\n",
       "    }\n",
       "\n",
       "    .dataframe thead th {\n",
       "        text-align: right;\n",
       "    }\n",
       "</style>\n",
       "<table border=\"1\" class=\"dataframe\">\n",
       "  <thead>\n",
       "    <tr style=\"text-align: right;\">\n",
       "      <th></th>\n",
       "      <th>asset</th>\n",
       "      <th>order_local_ccy</th>\n",
       "    </tr>\n",
       "  </thead>\n",
       "  <tbody>\n",
       "    <tr>\n",
       "      <th>0</th>\n",
       "      <td>AUD</td>\n",
       "      <td>500000.0</td>\n",
       "    </tr>\n",
       "    <tr>\n",
       "      <th>1</th>\n",
       "      <td>CZK</td>\n",
       "      <td>-18000000.0</td>\n",
       "    </tr>\n",
       "    <tr>\n",
       "      <th>2</th>\n",
       "      <td>EUR</td>\n",
       "      <td>0.0</td>\n",
       "    </tr>\n",
       "    <tr>\n",
       "      <th>3</th>\n",
       "      <td>PLN</td>\n",
       "      <td>0.0</td>\n",
       "    </tr>\n",
       "  </tbody>\n",
       "</table>\n",
       "</div>"
      ],
      "text/plain": [
       "  asset  order_local_ccy\n",
       "0   AUD         500000.0\n",
       "1   CZK      -18000000.0\n",
       "2   EUR              0.0\n",
       "3   PLN              0.0"
      ]
     },
     "execution_count": 12,
     "metadata": {},
     "output_type": "execute_result"
    }
   ],
   "source": [
    "order_by_asset_local_ccy = pd.DataFrame([\n",
    "    {'asset': 'AUD', 'order_local_ccy': 500000.0},\n",
    "    {'asset': 'CZK', 'order_local_ccy': -18000000.0},\n",
    "    {'asset': 'EUR', 'order_local_ccy': 0.0},\n",
    "    {'asset': 'PLN', 'order_local_ccy': 0.0}\n",
    "])\n",
    "order_by_asset_local_ccy"
   ]
  },
  {
   "cell_type": "markdown",
   "id": "333a482c",
   "metadata": {
    "ExecuteTime": {
     "end_time": "2024-10-12T12:23:17.003087Z",
     "start_time": "2024-10-12T12:23:16.992717Z"
    }
   },
   "source": [
    "# Easy / Medium Task: Generate Orders (total and by strategy) as of 2023-08-30 16:00 (USD)\n",
    "\n",
    "*Note inverted prices of EUR and AUD*"
   ]
  },
  {
   "cell_type": "code",
   "execution_count": 13,
   "id": "6b20dc11-56b6-4ed4-8cef-fc274fdee05c",
   "metadata": {},
   "outputs": [],
   "source": [
    "fx_rates_selected = fx_rates.xs(trading_session,level = 'rt')"
   ]
  },
  {
   "cell_type": "code",
   "execution_count": 14,
   "id": "4a63b460-7cca-4cfc-b146-f44ff3606479",
   "metadata": {},
   "outputs": [],
   "source": [
    "df_order_with_usd = df_order_local_currency.copy()"
   ]
  },
  {
   "cell_type": "code",
   "execution_count": 15,
   "id": "fca60bf4-5e05-4f6d-bdb7-83685a6b0893",
   "metadata": {},
   "outputs": [],
   "source": [
    "df_order_with_usd['fx_rate'] = df_order_local_currency['asset'].apply(lambda x : 1/fx_rates_selected[x] if x in ['EUR','AUD'] else fx_rates_selected[x])\n",
    "df_order_with_usd['order_usd'] = df_order_with_usd['order_local_ccy'] / df_order_with_usd['fx_rate']"
   ]
  },
  {
   "cell_type": "code",
   "execution_count": 16,
   "id": "52ef2a0b-4022-4403-aad3-fdc1e9c346e8",
   "metadata": {},
   "outputs": [
    {
     "data": {
      "text/html": [
       "<div>\n",
       "<style scoped>\n",
       "    .dataframe tbody tr th:only-of-type {\n",
       "        vertical-align: middle;\n",
       "    }\n",
       "\n",
       "    .dataframe tbody tr th {\n",
       "        vertical-align: top;\n",
       "    }\n",
       "\n",
       "    .dataframe thead th {\n",
       "        text-align: right;\n",
       "    }\n",
       "</style>\n",
       "<table border=\"1\" class=\"dataframe\">\n",
       "  <thead>\n",
       "    <tr style=\"text-align: right;\">\n",
       "      <th></th>\n",
       "      <th>strategy</th>\n",
       "      <th>asset</th>\n",
       "      <th>order_usd</th>\n",
       "    </tr>\n",
       "  </thead>\n",
       "  <tbody>\n",
       "    <tr>\n",
       "      <th>0</th>\n",
       "      <td>s1</td>\n",
       "      <td>PLN</td>\n",
       "      <td>3.073770e+05</td>\n",
       "    </tr>\n",
       "    <tr>\n",
       "      <th>1</th>\n",
       "      <td>s1</td>\n",
       "      <td>CZK</td>\n",
       "      <td>-1.043025e+06</td>\n",
       "    </tr>\n",
       "    <tr>\n",
       "      <th>2</th>\n",
       "      <td>s2</td>\n",
       "      <td>EUR</td>\n",
       "      <td>0.000000e+00</td>\n",
       "    </tr>\n",
       "    <tr>\n",
       "      <th>3</th>\n",
       "      <td>s2</td>\n",
       "      <td>AUD</td>\n",
       "      <td>3.450000e+05</td>\n",
       "    </tr>\n",
       "    <tr>\n",
       "      <th>4</th>\n",
       "      <td>s3</td>\n",
       "      <td>CZK</td>\n",
       "      <td>2.607562e+05</td>\n",
       "    </tr>\n",
       "    <tr>\n",
       "      <th>5</th>\n",
       "      <td>s3</td>\n",
       "      <td>PLN</td>\n",
       "      <td>5.122951e+04</td>\n",
       "    </tr>\n",
       "  </tbody>\n",
       "</table>\n",
       "</div>"
      ],
      "text/plain": [
       "  strategy asset     order_usd\n",
       "0       s1   PLN  3.073770e+05\n",
       "1       s1   CZK -1.043025e+06\n",
       "2       s2   EUR  0.000000e+00\n",
       "3       s2   AUD  3.450000e+05\n",
       "4       s3   CZK  2.607562e+05\n",
       "5       s3   PLN  5.122951e+04"
      ]
     },
     "execution_count": 16,
     "metadata": {},
     "output_type": "execute_result"
    }
   ],
   "source": [
    "df_order_with_usd.drop(['order_local_ccy','fx_rate'],axis=1)"
   ]
  },
  {
   "cell_type": "code",
   "execution_count": 17,
   "id": "d6700d5a-93e3-43f7-a20b-ad5543b710ce",
   "metadata": {},
   "outputs": [
    {
     "data": {
      "text/html": [
       "<div>\n",
       "<style scoped>\n",
       "    .dataframe tbody tr th:only-of-type {\n",
       "        vertical-align: middle;\n",
       "    }\n",
       "\n",
       "    .dataframe tbody tr th {\n",
       "        vertical-align: top;\n",
       "    }\n",
       "\n",
       "    .dataframe thead th {\n",
       "        text-align: right;\n",
       "    }\n",
       "</style>\n",
       "<table border=\"1\" class=\"dataframe\">\n",
       "  <thead>\n",
       "    <tr style=\"text-align: right;\">\n",
       "      <th></th>\n",
       "      <th>asset</th>\n",
       "      <th>order_usd</th>\n",
       "    </tr>\n",
       "  </thead>\n",
       "  <tbody>\n",
       "    <tr>\n",
       "      <th>0</th>\n",
       "      <td>AUD</td>\n",
       "      <td>345000.000000</td>\n",
       "    </tr>\n",
       "    <tr>\n",
       "      <th>1</th>\n",
       "      <td>CZK</td>\n",
       "      <td>-782268.578879</td>\n",
       "    </tr>\n",
       "    <tr>\n",
       "      <th>2</th>\n",
       "      <td>EUR</td>\n",
       "      <td>0.000000</td>\n",
       "    </tr>\n",
       "    <tr>\n",
       "      <th>3</th>\n",
       "      <td>PLN</td>\n",
       "      <td>358606.557377</td>\n",
       "    </tr>\n",
       "  </tbody>\n",
       "</table>\n",
       "</div>"
      ],
      "text/plain": [
       "  asset      order_usd\n",
       "0   AUD  345000.000000\n",
       "1   CZK -782268.578879\n",
       "2   EUR       0.000000\n",
       "3   PLN  358606.557377"
      ]
     },
     "execution_count": 17,
     "metadata": {},
     "output_type": "execute_result"
    }
   ],
   "source": [
    "orders_by_asset_usd = df_order_with_usd.groupby('asset')['order_usd'].sum().reset_index()\n",
    "orders_by_asset_usd"
   ]
  },
  {
   "cell_type": "code",
   "execution_count": 18,
   "id": "827148eb",
   "metadata": {
    "ExecuteTime": {
     "end_time": "2024-10-12T13:16:43.899065Z",
     "start_time": "2024-10-12T13:16:43.881002Z"
    }
   },
   "outputs": [
    {
     "data": {
      "text/html": [
       "<div>\n",
       "<style scoped>\n",
       "    .dataframe tbody tr th:only-of-type {\n",
       "        vertical-align: middle;\n",
       "    }\n",
       "\n",
       "    .dataframe tbody tr th {\n",
       "        vertical-align: top;\n",
       "    }\n",
       "\n",
       "    .dataframe thead th {\n",
       "        text-align: right;\n",
       "    }\n",
       "</style>\n",
       "<table border=\"1\" class=\"dataframe\">\n",
       "  <thead>\n",
       "    <tr style=\"text-align: right;\">\n",
       "      <th></th>\n",
       "      <th>strategy</th>\n",
       "      <th>asset</th>\n",
       "      <th>order_usd</th>\n",
       "    </tr>\n",
       "  </thead>\n",
       "  <tbody>\n",
       "    <tr>\n",
       "      <th>0</th>\n",
       "      <td>s1</td>\n",
       "      <td>PLN</td>\n",
       "      <td>0.000000e+00</td>\n",
       "    </tr>\n",
       "    <tr>\n",
       "      <th>1</th>\n",
       "      <td>s1</td>\n",
       "      <td>CZK</td>\n",
       "      <td>-1.043025e+06</td>\n",
       "    </tr>\n",
       "    <tr>\n",
       "      <th>2</th>\n",
       "      <td>s2</td>\n",
       "      <td>EUR</td>\n",
       "      <td>0.000000e+00</td>\n",
       "    </tr>\n",
       "    <tr>\n",
       "      <th>3</th>\n",
       "      <td>s2</td>\n",
       "      <td>AUD</td>\n",
       "      <td>3.450000e+05</td>\n",
       "    </tr>\n",
       "    <tr>\n",
       "      <th>4</th>\n",
       "      <td>s3</td>\n",
       "      <td>CZK</td>\n",
       "      <td>2.607562e+05</td>\n",
       "    </tr>\n",
       "  </tbody>\n",
       "</table>\n",
       "</div>"
      ],
      "text/plain": [
       "  strategy asset     order_usd\n",
       "0       s1   PLN  0.000000e+00\n",
       "1       s1   CZK -1.043025e+06\n",
       "2       s2   EUR  0.000000e+00\n",
       "3       s2   AUD  3.450000e+05\n",
       "4       s3   CZK  2.607562e+05"
      ]
     },
     "execution_count": 18,
     "metadata": {},
     "output_type": "execute_result"
    }
   ],
   "source": [
    "order_by_strategy_and_asset_usd = pd.DataFrame([\n",
    "    {'strategy': 's1', 'asset': 'PLN', 'order_usd': 0.0},\n",
    "    {'strategy': 's1', 'asset': 'CZK', 'order_usd': -1043024.7718383311},\n",
    "    {'strategy': 's2', 'asset': 'EUR', 'order_usd': 0.0},\n",
    "    {'strategy': 's2', 'asset': 'AUD', 'order_usd': 344999.99999999994},\n",
    "    {'strategy': 's3', 'asset': 'CZK', 'order_usd': 260756.19295958278}\n",
    "])\n",
    "order_by_strategy_and_asset_usd"
   ]
  },
  {
   "cell_type": "code",
   "execution_count": 19,
   "id": "5c6a6493",
   "metadata": {
    "ExecuteTime": {
     "end_time": "2024-10-12T13:23:58.684018Z",
     "start_time": "2024-10-12T13:23:58.668355Z"
    }
   },
   "outputs": [
    {
     "data": {
      "text/html": [
       "<div>\n",
       "<style scoped>\n",
       "    .dataframe tbody tr th:only-of-type {\n",
       "        vertical-align: middle;\n",
       "    }\n",
       "\n",
       "    .dataframe tbody tr th {\n",
       "        vertical-align: top;\n",
       "    }\n",
       "\n",
       "    .dataframe thead th {\n",
       "        text-align: right;\n",
       "    }\n",
       "</style>\n",
       "<table border=\"1\" class=\"dataframe\">\n",
       "  <thead>\n",
       "    <tr style=\"text-align: right;\">\n",
       "      <th></th>\n",
       "      <th>asset</th>\n",
       "      <th>order_usd</th>\n",
       "    </tr>\n",
       "  </thead>\n",
       "  <tbody>\n",
       "    <tr>\n",
       "      <th>0</th>\n",
       "      <td>AUD</td>\n",
       "      <td>345000.000000</td>\n",
       "    </tr>\n",
       "    <tr>\n",
       "      <th>1</th>\n",
       "      <td>CZK</td>\n",
       "      <td>-782268.578879</td>\n",
       "    </tr>\n",
       "    <tr>\n",
       "      <th>2</th>\n",
       "      <td>EUR</td>\n",
       "      <td>0.000000</td>\n",
       "    </tr>\n",
       "    <tr>\n",
       "      <th>3</th>\n",
       "      <td>PLN</td>\n",
       "      <td>0.000000</td>\n",
       "    </tr>\n",
       "  </tbody>\n",
       "</table>\n",
       "</div>"
      ],
      "text/plain": [
       "  asset      order_usd\n",
       "0   AUD  345000.000000\n",
       "1   CZK -782268.578879\n",
       "2   EUR       0.000000\n",
       "3   PLN       0.000000"
      ]
     },
     "execution_count": 19,
     "metadata": {},
     "output_type": "execute_result"
    }
   ],
   "source": [
    "order_by_asset_usd = pd.DataFrame([\n",
    "    {'asset': 'AUD', 'order_usd': 344999.99999999994},\n",
    "    {'asset': 'CZK', 'order_usd': -782268.5788787483},\n",
    "    {'asset': 'EUR', 'order_usd': 0.0},\n",
    "    {'asset': 'PLN', 'order_usd': 0.0}\n",
    "])\n",
    "order_by_asset_usd"
   ]
  },
  {
   "cell_type": "markdown",
   "id": "fbfe8f91",
   "metadata": {},
   "source": [
    "# Hard Task: Apply Minimum Order Size and generate new target position after this session\n",
    "\n",
    "*Context: In practice there is often minimum cost we need to pay when trading. This means the orders must be of certain size to make economic sense. Therefore, if order is below the limit size it will not be executed and this needs to be fed back to the target position, so that during next strategy it trades orders knowing that past position is as of T-2, not T-1 (since we skipped T-1 orders)*"
   ]
  },
  {
   "cell_type": "markdown",
   "id": "11198311-0b17-4e12-934f-6d50455acf1a",
   "metadata": {},
   "source": [
    "# My approach"
   ]
  },
  {
   "cell_type": "markdown",
   "id": "4cf147b4-72c5-48ed-8c07-6a62b0fa19c6",
   "metadata": {},
   "source": [
    "## Note: This approach doesn't work if there's a position with empty values, e.g. Adding s3 PLN with just rt 08-30 16:00"
   ]
  },
  {
   "cell_type": "code",
   "execution_count": 20,
   "id": "1ee1331b-c3ef-480b-b5d8-80b1f3da8d61",
   "metadata": {},
   "outputs": [
    {
     "name": "stdout",
     "output_type": "stream",
     "text": [
      "Adjusting: ('s1', 'PLN') on 2023-08-30 16:00:00 by 1200000.0\n",
      "Adjusting: ('s2', 'AUD') on 2023-08-30 16:00:00 by 500000.0\n",
      "Adjusting: ('s3', 'PLN') on 2023-08-30 16:00:00 by 200000.0\n"
     ]
    },
    {
     "name": "stderr",
     "output_type": "stream",
     "text": [
      "C:\\Users\\jakub\\AppData\\Local\\Temp\\ipykernel_15752\\113210771.py:43: FutureWarning: Series.__getitem__ treating keys as positions is deprecated. In a future version, integer keys will always be treated as labels (consistent with DataFrame behavior). To access a value by position, use `ser.iloc[pos]`\n",
      "  positions_clean.loc[(trading_session), (strategy, asset)][0] -= adjustment_value\n",
      "C:\\Users\\jakub\\AppData\\Local\\Temp\\ipykernel_15752\\113210771.py:43: FutureWarning: ChainedAssignmentError: behaviour will change in pandas 3.0!\n",
      "You are setting values through chained assignment. Currently this works in certain cases, but when using Copy-on-Write (which will become the default behaviour in pandas 3.0) this will never work to update the original DataFrame or Series, because the intermediate object on which we are setting values will behave as a copy.\n",
      "A typical example is when you are setting values in a column of a DataFrame, like:\n",
      "\n",
      "df[\"col\"][row_indexer] = value\n",
      "\n",
      "Use `df.loc[row_indexer, \"col\"] = values` instead, to perform the assignment in a single step and ensure this keeps updating the original `df`.\n",
      "\n",
      "See the caveats in the documentation: https://pandas.pydata.org/pandas-docs/stable/user_guide/indexing.html#returning-a-view-versus-a-copy\n",
      "\n",
      "  positions_clean.loc[(trading_session), (strategy, asset)][0] -= adjustment_value\n",
      "C:\\Users\\jakub\\AppData\\Local\\Temp\\ipykernel_15752\\113210771.py:43: FutureWarning: Series.__setitem__ treating keys as positions is deprecated. In a future version, integer keys will always be treated as labels (consistent with DataFrame behavior). To set a value by position, use `ser.iloc[pos] = value`\n",
      "  positions_clean.loc[(trading_session), (strategy, asset)][0] -= adjustment_value\n"
     ]
    },
    {
     "data": {
      "text/html": [
       "<div>\n",
       "<style scoped>\n",
       "    .dataframe tbody tr th:only-of-type {\n",
       "        vertical-align: middle;\n",
       "    }\n",
       "\n",
       "    .dataframe tbody tr th {\n",
       "        vertical-align: top;\n",
       "    }\n",
       "\n",
       "    .dataframe thead tr th {\n",
       "        text-align: left;\n",
       "    }\n",
       "\n",
       "    .dataframe thead tr:last-of-type th {\n",
       "        text-align: right;\n",
       "    }\n",
       "</style>\n",
       "<table border=\"1\" class=\"dataframe\">\n",
       "  <thead>\n",
       "    <tr>\n",
       "      <th></th>\n",
       "      <th>strategy</th>\n",
       "      <th colspan=\"2\" halign=\"left\">s1</th>\n",
       "      <th colspan=\"2\" halign=\"left\">s2</th>\n",
       "      <th colspan=\"2\" halign=\"left\">s3</th>\n",
       "    </tr>\n",
       "    <tr>\n",
       "      <th></th>\n",
       "      <th>asset</th>\n",
       "      <th>PLN</th>\n",
       "      <th>CZK</th>\n",
       "      <th>EUR</th>\n",
       "      <th>AUD</th>\n",
       "      <th>CZK</th>\n",
       "      <th>PLN</th>\n",
       "    </tr>\n",
       "    <tr>\n",
       "      <th>rt</th>\n",
       "      <th>dt</th>\n",
       "      <th></th>\n",
       "      <th></th>\n",
       "      <th></th>\n",
       "      <th></th>\n",
       "      <th></th>\n",
       "      <th></th>\n",
       "    </tr>\n",
       "  </thead>\n",
       "  <tbody>\n",
       "    <tr>\n",
       "      <th>2023-08-29 07:00:00</th>\n",
       "      <th>2023-08-29 07:00:00</th>\n",
       "      <td>4000000.0</td>\n",
       "      <td>NaN</td>\n",
       "      <td>1800000.0</td>\n",
       "      <td>NaN</td>\n",
       "      <td>12000000.0</td>\n",
       "      <td>NaN</td>\n",
       "    </tr>\n",
       "    <tr>\n",
       "      <th>2023-08-29 16:00:00</th>\n",
       "      <th>2023-08-29 07:00:00</th>\n",
       "      <td>4000000.0</td>\n",
       "      <td>-24000000.0</td>\n",
       "      <td>1800000.0</td>\n",
       "      <td>-1500000.0</td>\n",
       "      <td>18000000.0</td>\n",
       "      <td>10000000.0</td>\n",
       "    </tr>\n",
       "    <tr>\n",
       "      <th>2023-08-30 07:00:00</th>\n",
       "      <th>2023-08-30 07:00:00</th>\n",
       "      <td>8000000.0</td>\n",
       "      <td>-24000000.0</td>\n",
       "      <td>3600000.0</td>\n",
       "      <td>-1500000.0</td>\n",
       "      <td>18000000.0</td>\n",
       "      <td>10000000.0</td>\n",
       "    </tr>\n",
       "    <tr>\n",
       "      <th>2023-08-30 16:00:00</th>\n",
       "      <th>2023-08-30 07:00:00</th>\n",
       "      <td>8000000.0</td>\n",
       "      <td>-48000000.0</td>\n",
       "      <td>3600000.0</td>\n",
       "      <td>-1500000.0</td>\n",
       "      <td>24000000.0</td>\n",
       "      <td>10000000.0</td>\n",
       "    </tr>\n",
       "  </tbody>\n",
       "</table>\n",
       "</div>"
      ],
      "text/plain": [
       "strategy                                        s1                     s2  \\\n",
       "asset                                          PLN         CZK        EUR   \n",
       "rt                  dt                                                      \n",
       "2023-08-29 07:00:00 2023-08-29 07:00:00  4000000.0         NaN  1800000.0   \n",
       "2023-08-29 16:00:00 2023-08-29 07:00:00  4000000.0 -24000000.0  1800000.0   \n",
       "2023-08-30 07:00:00 2023-08-30 07:00:00  8000000.0 -24000000.0  3600000.0   \n",
       "2023-08-30 16:00:00 2023-08-30 07:00:00  8000000.0 -48000000.0  3600000.0   \n",
       "\n",
       "strategy                                                    s3              \n",
       "asset                                          AUD         CZK         PLN  \n",
       "rt                  dt                                                      \n",
       "2023-08-29 07:00:00 2023-08-29 07:00:00        NaN  12000000.0         NaN  \n",
       "2023-08-29 16:00:00 2023-08-29 07:00:00 -1500000.0  18000000.0  10000000.0  \n",
       "2023-08-30 07:00:00 2023-08-30 07:00:00 -1500000.0  18000000.0  10000000.0  \n",
       "2023-08-30 16:00:00 2023-08-30 07:00:00 -1500000.0  24000000.0  10000000.0  "
      ]
     },
     "execution_count": 20,
     "metadata": {},
     "output_type": "execute_result"
    }
   ],
   "source": [
    "#Get initial positions status\n",
    "positions_initial = tpos.unstack(['strategy','asset']).ffill()\n",
    "\n",
    "#Create an output df for clean position\n",
    "positions_clean = positions_initial.copy()\n",
    "\n",
    "#Get positions on a given rt date\n",
    "positions_filtered = positions_initial.loc[trading_session]\n",
    "\n",
    "#Copy valid orders df\n",
    "valid_orders_usd = orders_by_asset_usd.copy()\n",
    "\n",
    "#Verify whether a specific currency trade is valid. That is only if its absolute value is above the threshold or if it's 0\n",
    "valid_orders_usd['validity'] = valid_orders_usd.apply(lambda row : (abs(row['order_usd']) >= min_order_size_usd[row['asset']]) | (row['order_usd']==0),axis=1)\n",
    "\n",
    "#Identify which currencies are not valid and had any non zero order\n",
    "impacted_assets = valid_orders_usd[valid_orders_usd['validity']==False]['asset']\n",
    "\n",
    "#Find which strategies are impacted by invalid orders\n",
    "df_order_local_currency[df_order_local_currency['asset'].isin(impacted_assets)]\n",
    "\n",
    "#Create adjusted order\n",
    "assets_strategies_to_adjust = df_order_local_currency[df_order_local_currency['asset'].isin(impacted_assets)]\n",
    "\n",
    "\n",
    "\n",
    "#Since the validity threshold is on asset value granularity, we can assume that if the order doesnt pass, \n",
    "#every strategy trading that asset should be reverted\n",
    "#hence we iterate through every strategy+asset combination in the initial order and then in our position table \n",
    "#we subtract those values from the desired position\n",
    "\n",
    "\n",
    "#Iterate over each row in the adjustment DataFrame\n",
    "for index, row in assets_strategies_to_adjust.iterrows():\n",
    "    strategy = row['strategy']  # Get the strategy\n",
    "    asset = row['asset']        # Get the asset\n",
    "    adjustment_value = row['order_local_ccy']  # Amount to subtract\n",
    "    \n",
    "    #Locate the correct position in the 'positions_filtered' DataFrame and apply the adjustment\n",
    "    if (strategy, asset) in positions_filtered.columns:\n",
    "        print(f'Adjusting: {(positions_clean.loc[(trading_session), (strategy, asset)]).name} on {trading_session} by {adjustment_value}')\n",
    "        # Subtract the adjustment value from the corresponding strategy-asset cell\n",
    "        positions_clean.loc[(trading_session), (strategy, asset)][0] -= adjustment_value\n",
    "       \n",
    "\n",
    "positions_clean"
   ]
  },
  {
   "cell_type": "markdown",
   "id": "0f3353c1-e7ee-4c44-8140-750947fd21b5",
   "metadata": {},
   "source": [
    "# OG Solution"
   ]
  },
  {
   "cell_type": "code",
   "execution_count": 21,
   "id": "954b0ce2-10a7-4b23-8f6d-0a88a8fc812a",
   "metadata": {},
   "outputs": [
    {
     "data": {
      "text/plain": [
       "asset\n",
       "PLN     500000.0\n",
       "CZK     500000.0\n",
       "EUR    1000000.0\n",
       "AUD    1000000.0\n",
       "Name: value, dtype: float64"
      ]
     },
     "execution_count": 21,
     "metadata": {},
     "output_type": "execute_result"
    }
   ],
   "source": [
    "\"\"\" Minimum absolute size of the order in USD, below which we do not trade \"\"\"\n",
    "min_order_size_usd"
   ]
  },
  {
   "cell_type": "code",
   "execution_count": 22,
   "id": "d1f0178a",
   "metadata": {
    "ExecuteTime": {
     "end_time": "2024-10-12T13:54:14.324468Z",
     "start_time": "2024-10-12T13:54:14.304317Z"
    }
   },
   "outputs": [
    {
     "data": {
      "text/html": [
       "<div>\n",
       "<style scoped>\n",
       "    .dataframe tbody tr th:only-of-type {\n",
       "        vertical-align: middle;\n",
       "    }\n",
       "\n",
       "    .dataframe tbody tr th {\n",
       "        vertical-align: top;\n",
       "    }\n",
       "\n",
       "    .dataframe thead th {\n",
       "        text-align: right;\n",
       "    }\n",
       "</style>\n",
       "<table border=\"1\" class=\"dataframe\">\n",
       "  <thead>\n",
       "    <tr style=\"text-align: right;\">\n",
       "      <th></th>\n",
       "      <th>asset</th>\n",
       "      <th>order_usd</th>\n",
       "      <th>valid_orders</th>\n",
       "    </tr>\n",
       "  </thead>\n",
       "  <tbody>\n",
       "    <tr>\n",
       "      <th>0</th>\n",
       "      <td>AUD</td>\n",
       "      <td>345000.000000</td>\n",
       "      <td>0.000000</td>\n",
       "    </tr>\n",
       "    <tr>\n",
       "      <th>1</th>\n",
       "      <td>CZK</td>\n",
       "      <td>-782268.578879</td>\n",
       "      <td>-782268.578879</td>\n",
       "    </tr>\n",
       "    <tr>\n",
       "      <th>2</th>\n",
       "      <td>EUR</td>\n",
       "      <td>0.000000</td>\n",
       "      <td>0.000000</td>\n",
       "    </tr>\n",
       "    <tr>\n",
       "      <th>3</th>\n",
       "      <td>PLN</td>\n",
       "      <td>0.000000</td>\n",
       "      <td>0.000000</td>\n",
       "    </tr>\n",
       "  </tbody>\n",
       "</table>\n",
       "</div>"
      ],
      "text/plain": [
       "  asset      order_usd   valid_orders\n",
       "0   AUD  345000.000000       0.000000\n",
       "1   CZK -782268.578879 -782268.578879\n",
       "2   EUR       0.000000       0.000000\n",
       "3   PLN       0.000000       0.000000"
      ]
     },
     "execution_count": 22,
     "metadata": {},
     "output_type": "execute_result"
    }
   ],
   "source": [
    "valid_orders_usd = pd.DataFrame([\n",
    "    {'asset': 'AUD', 'order_usd': 344999.99999999994, 'valid_orders': 0.0},\n",
    "    {'asset': 'CZK','order_usd': -782268.5788787483, 'valid_orders': -782268.5788787483},\n",
    "    {'asset': 'EUR', 'order_usd': 0.0, 'valid_orders': 0.0},\n",
    "    {'asset': 'PLN', 'order_usd': 0.0, 'valid_orders': 0.0}\n",
    "])\n",
    "valid_orders_usd"
   ]
  },
  {
   "cell_type": "code",
   "execution_count": 23,
   "id": "25b8ad69",
   "metadata": {
    "ExecuteTime": {
     "end_time": "2024-10-12T14:25:52.158210Z",
     "start_time": "2024-10-12T14:25:52.140014Z"
    }
   },
   "outputs": [
    {
     "data": {
      "text/plain": [
       "asset\n",
       "AUD    0.0\n",
       "CZK    1.0\n",
       "EUR    0.0\n",
       "PLN    0.0\n",
       "Name: scalar, dtype: float64"
      ]
     },
     "execution_count": 23,
     "metadata": {},
     "output_type": "execute_result"
    }
   ],
   "source": [
    "\"\"\" \n",
    "Here I find exactly which orders were scaled down and by what scalar, \n",
    "which I will need when calculating final orders by strategy and asset\n",
    "\"\"\"\n",
    "valid_orders_usd['fx_rate'] = valid_orders_usd['asset'].apply(\n",
    "    lambda x: 1/fx_rates.loc[trading_session][x] if x in ['EUR', 'AUD'] else fx_rates.loc[trading_session][x]\n",
    ")\n",
    "\n",
    "valid_orders_usd['valid_orders_local'] = valid_orders_usd['valid_orders'] * valid_orders_usd['fx_rate']\n",
    "valid_orders_usd['scalar'] = (valid_orders_usd['valid_orders'] / valid_orders_usd['order_usd']).fillna(0)\n",
    "valid_orders_scalar = valid_orders_usd.set_index('asset')['scalar']\n",
    "valid_orders_scalar"
   ]
  },
  {
   "cell_type": "code",
   "execution_count": 24,
   "id": "ae5bdb0e",
   "metadata": {
    "ExecuteTime": {
     "end_time": "2024-10-12T14:26:21.426818Z",
     "start_time": "2024-10-12T14:26:21.405821Z"
    }
   },
   "outputs": [
    {
     "data": {
      "text/html": [
       "<div>\n",
       "<style scoped>\n",
       "    .dataframe tbody tr th:only-of-type {\n",
       "        vertical-align: middle;\n",
       "    }\n",
       "\n",
       "    .dataframe tbody tr th {\n",
       "        vertical-align: top;\n",
       "    }\n",
       "\n",
       "    .dataframe thead th {\n",
       "        text-align: right;\n",
       "    }\n",
       "</style>\n",
       "<table border=\"1\" class=\"dataframe\">\n",
       "  <thead>\n",
       "    <tr style=\"text-align: right;\">\n",
       "      <th></th>\n",
       "      <th>strategy</th>\n",
       "      <th>asset</th>\n",
       "      <th>order_local_ccy</th>\n",
       "      <th>order_local_ccy_validated</th>\n",
       "      <th>dt</th>\n",
       "      <th>rt</th>\n",
       "    </tr>\n",
       "  </thead>\n",
       "  <tbody>\n",
       "    <tr>\n",
       "      <th>0</th>\n",
       "      <td>s1</td>\n",
       "      <td>PLN</td>\n",
       "      <td>0.0</td>\n",
       "      <td>0.0</td>\n",
       "      <td>2023-08-30 07:00:00+00:00</td>\n",
       "      <td>2023-08-30 16:00:00</td>\n",
       "    </tr>\n",
       "    <tr>\n",
       "      <th>1</th>\n",
       "      <td>s1</td>\n",
       "      <td>CZK</td>\n",
       "      <td>-24000000.0</td>\n",
       "      <td>-24000000.0</td>\n",
       "      <td>2023-08-30 07:00:00+00:00</td>\n",
       "      <td>2023-08-30 16:00:00</td>\n",
       "    </tr>\n",
       "    <tr>\n",
       "      <th>2</th>\n",
       "      <td>s2</td>\n",
       "      <td>EUR</td>\n",
       "      <td>0.0</td>\n",
       "      <td>0.0</td>\n",
       "      <td>2023-08-30 07:00:00+00:00</td>\n",
       "      <td>2023-08-30 16:00:00</td>\n",
       "    </tr>\n",
       "    <tr>\n",
       "      <th>3</th>\n",
       "      <td>s2</td>\n",
       "      <td>AUD</td>\n",
       "      <td>500000.0</td>\n",
       "      <td>0.0</td>\n",
       "      <td>2023-08-30 07:00:00+00:00</td>\n",
       "      <td>2023-08-30 16:00:00</td>\n",
       "    </tr>\n",
       "    <tr>\n",
       "      <th>4</th>\n",
       "      <td>s3</td>\n",
       "      <td>CZK</td>\n",
       "      <td>6000000.0</td>\n",
       "      <td>6000000.0</td>\n",
       "      <td>2023-08-30 07:00:00+00:00</td>\n",
       "      <td>2023-08-30 16:00:00</td>\n",
       "    </tr>\n",
       "  </tbody>\n",
       "</table>\n",
       "</div>"
      ],
      "text/plain": [
       "  strategy asset  order_local_ccy  order_local_ccy_validated  \\\n",
       "0       s1   PLN              0.0                        0.0   \n",
       "1       s1   CZK      -24000000.0                -24000000.0   \n",
       "2       s2   EUR              0.0                        0.0   \n",
       "3       s2   AUD         500000.0                        0.0   \n",
       "4       s3   CZK        6000000.0                  6000000.0   \n",
       "\n",
       "                         dt                  rt  \n",
       "0 2023-08-30 07:00:00+00:00 2023-08-30 16:00:00  \n",
       "1 2023-08-30 07:00:00+00:00 2023-08-30 16:00:00  \n",
       "2 2023-08-30 07:00:00+00:00 2023-08-30 16:00:00  \n",
       "3 2023-08-30 07:00:00+00:00 2023-08-30 16:00:00  \n",
       "4 2023-08-30 07:00:00+00:00 2023-08-30 16:00:00  "
      ]
     },
     "execution_count": 24,
     "metadata": {},
     "output_type": "execute_result"
    }
   ],
   "source": [
    "o_sa_local = order_by_strategy_and_asset_local_ccy # for convenience\n",
    "o_sa_local['order_local_ccy_validated'] = o_sa_local.apply(\n",
    "    lambda row: valid_orders_scalar[row['asset']] * row['order_local_ccy'], axis=1\n",
    ")\n",
    "order_as_valid = o_sa_local.copy()\n",
    "order_as_valid['dt'] = pd.Timestamp(\"2023-08-30 07:00:00z\")\n",
    "order_as_valid['rt'] = trading_session\n",
    "order_as_valid"
   ]
  },
  {
   "cell_type": "code",
   "execution_count": 25,
   "id": "2ac411ae",
   "metadata": {
    "ExecuteTime": {
     "end_time": "2024-10-12T14:26:25.014213Z",
     "start_time": "2024-10-12T14:26:24.994663Z"
    }
   },
   "outputs": [],
   "source": [
    "\"\"\" Adding those orders back to positions to create final target position \"\"\"\n",
    "\n",
    "original_positions = tpos.unstack(['strategy', 'asset']).ffill()\n",
    "original_positions_drop_last_row = original_positions[\n",
    "    original_positions.index.get_level_values('rt') != trading_session]\n",
    "\n",
    "clean_new_orders = order_as_valid.set_index(['rt', 'dt', 'strategy', 'asset'])['order_local_ccy_validated']\n",
    "\n",
    "new_last_row = original_positions_drop_last_row.iloc[-1] + clean_new_orders"
   ]
  },
  {
   "cell_type": "code",
   "execution_count": 26,
   "id": "93c31df9-f77d-4c80-8fc4-32a6535e0690",
   "metadata": {},
   "outputs": [
    {
     "data": {
      "text/plain": [
       "strategy  asset\n",
       "s1        PLN       8000000.0\n",
       "          CZK     -24000000.0\n",
       "s2        EUR       3600000.0\n",
       "          AUD      -1500000.0\n",
       "s3        CZK      18000000.0\n",
       "          PLN      10000000.0\n",
       "Name: (2023-08-30 07:00:00, 2023-08-30 07:00:00), dtype: float64"
      ]
     },
     "execution_count": 26,
     "metadata": {},
     "output_type": "execute_result"
    }
   ],
   "source": [
    "original_positions_drop_last_row.iloc[-1]"
   ]
  },
  {
   "cell_type": "code",
   "execution_count": 27,
   "id": "18e5168a",
   "metadata": {
    "ExecuteTime": {
     "end_time": "2024-10-12T14:26:25.238677Z",
     "start_time": "2024-10-12T14:26:25.218324Z"
    }
   },
   "outputs": [
    {
     "data": {
      "text/html": [
       "<div>\n",
       "<style scoped>\n",
       "    .dataframe tbody tr th:only-of-type {\n",
       "        vertical-align: middle;\n",
       "    }\n",
       "\n",
       "    .dataframe tbody tr th {\n",
       "        vertical-align: top;\n",
       "    }\n",
       "\n",
       "    .dataframe thead tr th {\n",
       "        text-align: left;\n",
       "    }\n",
       "\n",
       "    .dataframe thead tr:last-of-type th {\n",
       "        text-align: right;\n",
       "    }\n",
       "</style>\n",
       "<table border=\"1\" class=\"dataframe\">\n",
       "  <thead>\n",
       "    <tr>\n",
       "      <th></th>\n",
       "      <th>strategy</th>\n",
       "      <th colspan=\"2\" halign=\"left\">s1</th>\n",
       "      <th colspan=\"2\" halign=\"left\">s2</th>\n",
       "      <th colspan=\"2\" halign=\"left\">s3</th>\n",
       "    </tr>\n",
       "    <tr>\n",
       "      <th></th>\n",
       "      <th>asset</th>\n",
       "      <th>PLN</th>\n",
       "      <th>CZK</th>\n",
       "      <th>EUR</th>\n",
       "      <th>AUD</th>\n",
       "      <th>CZK</th>\n",
       "      <th>PLN</th>\n",
       "    </tr>\n",
       "    <tr>\n",
       "      <th>rt</th>\n",
       "      <th>dt</th>\n",
       "      <th></th>\n",
       "      <th></th>\n",
       "      <th></th>\n",
       "      <th></th>\n",
       "      <th></th>\n",
       "      <th></th>\n",
       "    </tr>\n",
       "  </thead>\n",
       "  <tbody>\n",
       "    <tr>\n",
       "      <th>2023-08-29 07:00:00</th>\n",
       "      <th>2023-08-29 07:00:00</th>\n",
       "      <td>4000000.0</td>\n",
       "      <td>NaN</td>\n",
       "      <td>1800000.0</td>\n",
       "      <td>NaN</td>\n",
       "      <td>12000000.0</td>\n",
       "      <td>NaN</td>\n",
       "    </tr>\n",
       "    <tr>\n",
       "      <th>2023-08-29 16:00:00</th>\n",
       "      <th>2023-08-29 07:00:00</th>\n",
       "      <td>4000000.0</td>\n",
       "      <td>-24000000.0</td>\n",
       "      <td>1800000.0</td>\n",
       "      <td>-1500000.0</td>\n",
       "      <td>18000000.0</td>\n",
       "      <td>10000000.0</td>\n",
       "    </tr>\n",
       "    <tr>\n",
       "      <th>2023-08-30 07:00:00</th>\n",
       "      <th>2023-08-30 07:00:00</th>\n",
       "      <td>8000000.0</td>\n",
       "      <td>-24000000.0</td>\n",
       "      <td>3600000.0</td>\n",
       "      <td>-1500000.0</td>\n",
       "      <td>18000000.0</td>\n",
       "      <td>10000000.0</td>\n",
       "    </tr>\n",
       "    <tr>\n",
       "      <th>NaT</th>\n",
       "      <th>NaN</th>\n",
       "      <td>NaN</td>\n",
       "      <td>NaN</td>\n",
       "      <td>NaN</td>\n",
       "      <td>NaN</td>\n",
       "      <td>NaN</td>\n",
       "      <td>NaN</td>\n",
       "    </tr>\n",
       "    <tr>\n",
       "      <th>2023-08-30 16:00:00</th>\n",
       "      <th>2023-08-30 07:00:00+00:00</th>\n",
       "      <td>8000000.0</td>\n",
       "      <td>-48000000.0</td>\n",
       "      <td>3600000.0</td>\n",
       "      <td>-1500000.0</td>\n",
       "      <td>24000000.0</td>\n",
       "      <td>NaN</td>\n",
       "    </tr>\n",
       "  </tbody>\n",
       "</table>\n",
       "</div>"
      ],
      "text/plain": [
       "strategy                                              s1              \\\n",
       "asset                                                PLN         CZK   \n",
       "rt                  dt                                                 \n",
       "2023-08-29 07:00:00 2023-08-29 07:00:00        4000000.0         NaN   \n",
       "2023-08-29 16:00:00 2023-08-29 07:00:00        4000000.0 -24000000.0   \n",
       "2023-08-30 07:00:00 2023-08-30 07:00:00        8000000.0 -24000000.0   \n",
       "NaT                 NaN                              NaN         NaN   \n",
       "2023-08-30 16:00:00 2023-08-30 07:00:00+00:00  8000000.0 -48000000.0   \n",
       "\n",
       "strategy                                              s2             \\\n",
       "asset                                                EUR        AUD   \n",
       "rt                  dt                                                \n",
       "2023-08-29 07:00:00 2023-08-29 07:00:00        1800000.0        NaN   \n",
       "2023-08-29 16:00:00 2023-08-29 07:00:00        1800000.0 -1500000.0   \n",
       "2023-08-30 07:00:00 2023-08-30 07:00:00        3600000.0 -1500000.0   \n",
       "NaT                 NaN                              NaN        NaN   \n",
       "2023-08-30 16:00:00 2023-08-30 07:00:00+00:00  3600000.0 -1500000.0   \n",
       "\n",
       "strategy                                               s3              \n",
       "asset                                                 CZK         PLN  \n",
       "rt                  dt                                                 \n",
       "2023-08-29 07:00:00 2023-08-29 07:00:00        12000000.0         NaN  \n",
       "2023-08-29 16:00:00 2023-08-29 07:00:00        18000000.0  10000000.0  \n",
       "2023-08-30 07:00:00 2023-08-30 07:00:00        18000000.0  10000000.0  \n",
       "NaT                 NaN                               NaN         NaN  \n",
       "2023-08-30 16:00:00 2023-08-30 07:00:00+00:00  24000000.0         NaN  "
      ]
     },
     "execution_count": 27,
     "metadata": {},
     "output_type": "execute_result"
    }
   ],
   "source": [
    "\"\"\" Final Result \"\"\"\n",
    "modified_position_final = pd.concat([original_positions_drop_last_row, new_last_row.unstack(['strategy', 'asset'])], axis=0)\n",
    "modified_position_final"
   ]
  }
 ],
 "metadata": {
  "kernelspec": {
   "display_name": "Python 3 (ipykernel)",
   "language": "python",
   "name": "python3"
  },
  "language_info": {
   "codemirror_mode": {
    "name": "ipython",
    "version": 3
   },
   "file_extension": ".py",
   "mimetype": "text/x-python",
   "name": "python",
   "nbconvert_exporter": "python",
   "pygments_lexer": "ipython3",
   "version": "3.11.2"
  },
  "toc": {
   "base_numbering": 1,
   "nav_menu": {},
   "number_sections": true,
   "sideBar": true,
   "skip_h1_title": false,
   "title_cell": "Table of Contents",
   "title_sidebar": "Contents",
   "toc_cell": false,
   "toc_position": {},
   "toc_section_display": true,
   "toc_window_display": false
  }
 },
 "nbformat": 4,
 "nbformat_minor": 5
}
